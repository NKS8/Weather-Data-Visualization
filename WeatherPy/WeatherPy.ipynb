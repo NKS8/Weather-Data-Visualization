{
 "cells": [
  {
   "cell_type": "code",
   "execution_count": 1,
   "metadata": {},
   "outputs": [],
   "source": [
    "# Dependencies\n",
    "import matplotlib.pyplot as plt\n",
    "import pandas as pd\n",
    "import numpy as np\n",
    "import requests\n",
    "import time # dthis for pause cuz api has limits \n",
    "from scipy import stats\n",
    "from scipy.stats import linregress\n",
    "import pandas as pd\n",
    "from datetime import datetime\n",
    "from api_keys import weather_api_key\n",
    "output_data_file = \"output_data/cities.csv\""
   ]
  },
  {
   "cell_type": "code",
   "execution_count": 2,
   "metadata": {},
   "outputs": [
    {
     "name": "stdout",
     "output_type": "stream",
     "text": [
      "Requirement already satisfied: citipy in c:\\users\\enhe_\\anaconda3\\envs\\pythondata\\lib\\site-packages (0.0.5)\n",
      "Requirement already satisfied: kdtree>=0.12 in c:\\users\\enhe_\\anaconda3\\envs\\pythondata\\lib\\site-packages (from citipy) (0.16)\n",
      "Note: you may need to restart the kernel to use updated packages.\n"
     ]
    }
   ],
   "source": [
    "pip install citipy"
   ]
  },
  {
   "cell_type": "code",
   "execution_count": 3,
   "metadata": {},
   "outputs": [],
   "source": [
    "from citipy import citipy"
   ]
  },
  {
   "cell_type": "code",
   "execution_count": 4,
   "metadata": {},
   "outputs": [
    {
     "name": "stdout",
     "output_type": "stream",
     "text": [
      "632\n",
      "['new norfolk', 'bluff', 'ambanja', 'dolores', 'itarema', 'avarua', 'esperance', 'dikson', 'vaini', 'ushuaia', 'olga', 'fortuna', 'sao filipe', 'swift current', 'sal rei', 'bethel', 'qaanaaq', 'wanning', 'north battleford', 'tierralta', 'caravelas', 'atuona', 'unai', 'wladyslawowo', 'tyup', 'bac lieu', 'cape town', 'margate', 'mataura', 'komsomolskiy', 'puerto ayora', 'vallenar', 'arraial do cabo', 'hermanus', 'urucara', 'aklavik', 'barentsburg', 'lebu', 'jamestown', 'hobart', 'havelock', 'klaksvik', 'maniitsoq', 'tucuman', 'bredasdorp', 'oussouye', 'isangel', 'alugan', 'kununurra', 'cherskiy', 'igarka', 'clyde river', 'villarrica', 'dwarka', 'castro', 'busselton', 'ozgon', 'pueblo', 'balurghat', 'san patricio', 'rikitea', 'port alfred', 'kruisfontein', 'butaritari', 'general roca', 'puerto morazan', 'kaitangata', 'thompson', 'kachikau', 'yellowknife', 'necochea', 'tuktoyaktuk', 'roald', 'nizhneyansk', 'ancud', 'puerto cabezas', 'tawkar', 'la paz', 'san ramon', 'kadykchan', 'warqla', 'bargal', 'taolanaro', 'saint-philippe', 'port elizabeth', 'svetlaya', 'olinda', 'hithadhoo', 'san pedro', 'saskylakh', 'husavik', 'tumannyy', 'illoqqortoormiut', 'gornopravdinsk', 'kapaa', 'troy', 'sambava', 'albany', 'te anau', 'pisco', 'vanderhoof', 'punta arenas', 'ahipara', 'ryde', 'gamba', 'chokurdakh', 'bengkulu', 'tautira', 'beringovskiy', 'tasiilaq', 'uglovskoye', 'grand river south east', 'santa maria', 'mutsamudu', 'cortez', 'bumba', 'mahibadhoo', 'katsuura', 'port-gentil', 'mikhaylovsk', 'saint-augustin', 'mahebourg', 'nuuk', 'guerrero negro', 'padang', 'east london', 'port hardy', 'goderich', 'toliary', 'touros', 'englehart', 'cabo san lucas', 'attawapiskat', 'matagami', 'cayenne', 'tsihombe', 'traunstein', 'miles city', 'vaitupu', 'codo', 'kodiak', 'konevo', 'doha', 'lida', 'sao jose da coroa grande', 'blackfoot', 'dunedin', 'peniche', 'amga', 'kangaatsiaq', 'lata', 'ribeira grande', 'severo-kurilsk', 'alice springs', 'vila franca do campo', 'newport', 'half moon bay', 'souillac', 'avera', 'huarmey', 'mahenge', 'jambi', 'lushunkou', 'balimo', 'nome', 'bambous virieux', 'belushya guba', 'grand gaube', 'kapuskasing', 'sabha', 'quatre cocos', 'zdvinsk', 'ca mau', 'kaya', 'rungata', 'shieli', 'talnakh', 'traverse city', 'bonavista', 'predivinsk', 'sechura', 'longyearbyen', 'sangar', 'ngunguru', 'puerto del rosario', 'rapid valley', 'camacha', 'mount isa', 'rutul', 'barrow', 'salta', 'dieppe bay', 'alofi', 'amahai', 'west bay', 'temiscaming', 'chuy', 'faanui', 'krasnoselkup', 'nouadhibou', 'bentiu', 'nikolskoye', 'bubaque', 'salalah', 'marawi', 'karaul', 'buin', 'richards bay', 'pasni', 'muros', 'vao', 'george town', 'teya', 'yaguajay', 'palauig', 'namatanai', 'mar del plata', 'khandyga', 'inuvik', 'kaputa', 'hobyo', 'hilo', 'mercedes', 'ulaangom', 'kahului', 'georgetown', 'boralday', 'villa vazquez', 'pailon', 'japura', 'sungaipenuh', 'puerto colombia', 'makakilo city', 'la ronge', 'san cristobal', 'provideniya', 'meyungs', 'yunjinghong', 'tulsipur', 'lipovtsy', 'palapye', 'torbay', 'tarudant', 'karakose', 'abeche', 'pevek', 'lakes entrance', 'mudyuga', 'rocha', 'oktyabrskoye', 'irtyshskiy', 'taunggyi', 'saleaula', 'coquimbo', 'kiunga', 'mandalgovi', 'pulandian', 'choix', 'abastumani', 'sitka', 'port lincoln', 'buraydah', 'sola', 'amderma', 'sur', 'kangavar', 'abashiri', 'mayumba', 'asau', 'udachnyy', 'bang racham', 'ust-shonosha', 'vardo', 'fayetteville', 'kamaishi', 'saint-pierre', 'morondava', 'ilulissat', 'ternate', 'butterworth', 'tam ky', 'flinders', 'qasigiannguit', 'corrales', 'hualmay', 'zhigansk', 'laurel', 'otane', 'faya', 'colac', 'huaiyuan', 'biltine', 'sentyabrskiy', 'manyana', 'salinopolis', 'los llanos de aridane', 'lompoc', 'khatanga', 'gilgit', 'kedrovyy', 'cabra', 'samusu', 'iqaluit', 'syracuse', 'turbat', 'aguia branca', 'turukhansk', 'oksfjord', 'taoudenni', 'geraldton', 'le marin', 'hamilton', 'leningradskiy', 'maun', 'saldanha', 'port blair', 'aykhal', 'lorengau', 'vanimo', 'ushtobe', 'saint-chamond', 'manaus', 'corrente', 'chama', 'chengmai', 'fare', 'moerai', 'santiago', 'bur gabo', 'haines junction', 'sao joao da barra', 'poya', 'constitucion', 'saint george', 'shkoder', 'petropavlovsk-kamchatskiy', 'mogok', 'lyngdal', 'mabaruma', 'garmsar', 'hofn', 'esmeraldas', 'bagotville', 'anniston', 'ust-nera', 'varzea grande', 'tsiroanomandidy', 'partizanskoye', 'hasaki', 'odweyne', 'fomboni', 'almendralejo', 'sainte-suzanne', 'lavrentiya', 'victoria', 'mokhsogollokh', 'upernavik', 'hajnowka', 'luganville', 'lokachi', 'ayan', 'bitam', 'batagay-alyta', 'sorvag', 'chara', 'aktash', 'eldikan', 'quimper', 'kosa', 'kidal', 'esso', 'kaduqli', 'coihaique', 'saint-francois', 'risti', 'karasjok', 'kutum', 'terrak', 'ponta delgada', 'benguela', 'chemin grenier', 'biak', 'deqing', 'chapeco', 'chernaya kholunitsa', 'pangnirtung', 'jalu', 'sinjah', 'berlevag', 'laguna', 'libreville', 'pingliang', 'kashan', 'havre-saint-pierre', 'ponta do sol', 'tiksi', 'riyaq', 'kardla', 'prince rupert', 'camocim', 'camana', 'baykit', 'esna', 'bandarbeyla', 'palabuhanratu', 'xuddur', 'port augusta', 'rio grande', 'airai', 'waipawa', 'aksarka', 'breytovo', 'mehamn', 'huilong', 'rocky mountain house', 'lancaster', 'najran', 'buzmeyin', 'sorong', 'wukari', 'northam', 'codrington', 'mount gambier', 'lolua', 'riyadh', 'kemijarvi', 'dzhusaly', 'bathsheba', 'maceio', 'alyangula', 'sisimiut', 'buqayq', 'larsnes', 'leshukonskoye', 'mazara del vallo', 'brigantine', 'ngukurr', 'mizdah', 'college', 'general pico', 'belyy yar', 'leh', 'lodja', 'carutapera', 'mnogovershinnyy', 'brae', 'resavica', 'totness', 'sokoni', 'honiara', 'portland', 'saint-joseph', 'casper', 'srednekolymsk', 'zemio', 'san blas', 'independencia', 'boyolangu', 'kharan', 'marcona', 'hazorasp', 'ranot', 'valdivia', 'batemans bay', 'road town', 'ondorhaan', 'payson', 'milton', 'tual', 'duldurga', 'dicabisagan', 'santa vitoria', 'adrar', 'nanortalik', 'puro', 'tessalit', 'kieta', 'wewak', 'rafai', 'carnarvon', 'saint anthony', 'parrita', 'zulueta', 'frontera', 'puerto carreno', 'cumaribo', 'camacupa', 'broome', 'catuday', 'ugoofaaru', 'tres arroyos', 'yumen', 'ferme-neuve', 'noumea', 'lucea', 'tuatapere', 'quibor', 'cockburn town', 'keti bandar', 'russell', 'corinto', 'mys shmidta', 'ketchikan', 'matara', 'sao gabriel da cachoeira', 'luderitz', 'quatro barras', 'thinadhoo', 'bardiyah', 'broken hill', 'bu salim', 'ciudad bolivar', 'sabang', 'tecate', 'ambilobe', 'tutoia', 'lumut', 'aranos', 'solnechnyy', 'comodoro rivadavia', 'sterling', 'bodden town', 'coromandel', 'dingle', 'mozarlandia', 'altamira', 'porto walter', 'auki', 'tura', 'wahpeton', 'conde', 'auburn', 'kaliua', 'olafsvik', 'rio gallegos', 'alexandru ioan cuza', 'rovaniemi', 'henties bay', 'progreso', 'basco', 'vilhena', 'hambantota', 'rosetta', 'whitehorse', 'bayangol', 'mouzakion', 'kavieng', 'boa vista', 'la union', 'nador', 'norman wells', 'gulu', 'mahon', 'marihatag', 'formoso do araguaia', 'raga', 'bani', 'bara', 'bowen', 'ejido', 'derzhavinsk', 'illela', 'batie', 'havoysund', 'hendijan', 'ambodifototra', 'muzhi', 'birnin kebbi', 'saint-georges', 'slobodskoy', 'cairns', 'surab', 'santa eulalia del rio', 'tommot', 'teknaf', 'macamic', 'ulkan', 'fereydunshahr', 'amapa', 'alappuzha', 'yerbogachen', 'inhambane', 'cheney', 'meadville', 'zhezkazgan', 'akyab', 'hirara', 'barrhead', 'adolfo ruiz cortines', 'narsaq', 'taltal', 'elko', 'edgewater', 'paamiut', 'vikesa', 'kenai', 'mergui', 'kavaratti', 'seabra', 'grand centre', 'marsa matruh', 'lacombe', 'fiumicino', 'maneadero', 'lithgow', 'feni', 'bakchar', 'shaunavon', 'moberly', 'bud', 'tuy hoa', 'constanta', 'digby', 'tromso', 'trudarmeyskiy', 'puerto madero', 'courtenay', 'oskaloosa', 'shingu', 'zyryanka', 'mirwah', 'povenets', 'mezen', 'tilichiki', 'champerico', 'komarikhinskiy', 'kamenka', 'kainantu', 'sydney mines', 'sumbe', 'pacific grove', 'araouane']\n"
     ]
    }
   ],
   "source": [
    "lat_range = (-90, 90)\n",
    "lng_range = (-180, 180)\n",
    "lat_lngs = []\n",
    "cities = []\n",
    "# Create a set of random lat and lng combinations\n",
    "lats = np.random.uniform(lat_range[0], lat_range[1], size=1500)\n",
    "lngs = np.random.uniform(lng_range[0], lng_range[1], size=1500)\n",
    "lat_lngs = zip(lats, lngs)\n",
    "# Identify nearest city for each lat, lng combination\n",
    "for lat_lng in lat_lngs:\n",
    "    city = citipy.nearest_city(lat_lng[0], lat_lng[1]).city_name\n",
    "    \n",
    "    # If the city is unique, then add it to a our cities list\n",
    "    if city not in cities:\n",
    "        cities.append(city)\n",
    "\n",
    "# Print the city count to confirm sufficient count\n",
    "print(len(cities))\n",
    "print(cities)"
   ]
  },
  {
   "cell_type": "code",
   "execution_count": 5,
   "metadata": {},
   "outputs": [],
   "source": [
    "city = \"Paris\""
   ]
  },
  {
   "cell_type": "code",
   "execution_count": 6,
   "metadata": {},
   "outputs": [],
   "source": [
    "url = \"http://api.openweathermap.org/data/2.5/weather?\"\n",
    "units = \"imperial\"\n"
   ]
  },
  {
   "cell_type": "code",
   "execution_count": 7,
   "metadata": {},
   "outputs": [
    {
     "data": {
      "text/plain": [
       "'http://api.openweathermap.org/data/2.5/weather?appid=983d8abd47f82d04e8c141735444cbdc&units=imperial&q='"
      ]
     },
     "execution_count": 7,
     "metadata": {},
     "output_type": "execute_result"
    }
   ],
   "source": [
    "query_url = f\"{url}appid={weather_api_key}&units={units}&q=\"\n",
    "query_url"
   ]
  },
  {
   "cell_type": "code",
   "execution_count": 8,
   "metadata": {},
   "outputs": [],
   "source": [
    "# city = cities[0]\n",
    "# city\n",
    "city = \"Paris\""
   ]
  },
  {
   "cell_type": "code",
   "execution_count": 9,
   "metadata": {},
   "outputs": [],
   "source": [
    "# open weather api has restricition, so there is i need to make minite pause. "
   ]
  },
  {
   "cell_type": "code",
   "execution_count": 10,
   "metadata": {},
   "outputs": [
    {
     "data": {
      "text/plain": [
       "'Paris'"
      ]
     },
     "execution_count": 10,
     "metadata": {},
     "output_type": "execute_result"
    }
   ],
   "source": [
    "response = requests.get(query_url+city).json()\n",
    "response['name']"
   ]
  },
  {
   "cell_type": "code",
   "execution_count": 11,
   "metadata": {},
   "outputs": [
    {
     "data": {
      "text/plain": [
       "2.3488"
      ]
     },
     "execution_count": 11,
     "metadata": {},
     "output_type": "execute_result"
    }
   ],
   "source": [
    "response['coord']['lon']"
   ]
  },
  {
   "cell_type": "code",
   "execution_count": 12,
   "metadata": {},
   "outputs": [
    {
     "data": {
      "text/plain": [
       "48.8534"
      ]
     },
     "execution_count": 12,
     "metadata": {},
     "output_type": "execute_result"
    }
   ],
   "source": [
    "response['coord']['lat']"
   ]
  },
  {
   "cell_type": "code",
   "execution_count": 13,
   "metadata": {},
   "outputs": [
    {
     "data": {
      "text/plain": [
       "{'temp': 60.89,\n",
       " 'feels_like': 61,\n",
       " 'temp_min': 56.28,\n",
       " 'temp_max': 63.77,\n",
       " 'pressure': 1010,\n",
       " 'humidity': 92}"
      ]
     },
     "execution_count": 13,
     "metadata": {},
     "output_type": "execute_result"
    }
   ],
   "source": [
    "response['main']"
   ]
  },
  {
   "cell_type": "code",
   "execution_count": 14,
   "metadata": {},
   "outputs": [
    {
     "data": {
      "text/plain": [
       "63.77"
      ]
     },
     "execution_count": 14,
     "metadata": {},
     "output_type": "execute_result"
    }
   ],
   "source": [
    "response['main']['temp_max']"
   ]
  },
  {
   "cell_type": "code",
   "execution_count": 15,
   "metadata": {},
   "outputs": [
    {
     "data": {
      "text/plain": [
       "92"
      ]
     },
     "execution_count": 15,
     "metadata": {},
     "output_type": "execute_result"
    }
   ],
   "source": [
    "response['main']['humidity']"
   ]
  },
  {
   "cell_type": "code",
   "execution_count": 16,
   "metadata": {},
   "outputs": [
    {
     "data": {
      "text/plain": [
       "75"
      ]
     },
     "execution_count": 16,
     "metadata": {},
     "output_type": "execute_result"
    }
   ],
   "source": [
    "response['clouds']['all']"
   ]
  },
  {
   "cell_type": "code",
   "execution_count": 17,
   "metadata": {},
   "outputs": [
    {
     "data": {
      "text/plain": [
       "2.3"
      ]
     },
     "execution_count": 17,
     "metadata": {},
     "output_type": "execute_result"
    }
   ],
   "source": [
    "response[\"wind\"][\"speed\"]"
   ]
  },
  {
   "cell_type": "code",
   "execution_count": 18,
   "metadata": {},
   "outputs": [
    {
     "data": {
      "text/plain": [
       "{'type': 2,\n",
       " 'id': 2012208,\n",
       " 'country': 'FR',\n",
       " 'sunrise': 1624333633,\n",
       " 'sunset': 1624391876}"
      ]
     },
     "execution_count": 18,
     "metadata": {},
     "output_type": "execute_result"
    }
   ],
   "source": [
    "response[\"sys\"]"
   ]
  },
  {
   "cell_type": "code",
   "execution_count": 19,
   "metadata": {},
   "outputs": [
    {
     "data": {
      "text/plain": [
       "'FR'"
      ]
     },
     "execution_count": 19,
     "metadata": {},
     "output_type": "execute_result"
    }
   ],
   "source": [
    "response[\"sys\"]['country']"
   ]
  },
  {
   "cell_type": "code",
   "execution_count": 20,
   "metadata": {},
   "outputs": [
    {
     "data": {
      "text/plain": [
       "1624340712"
      ]
     },
     "execution_count": 20,
     "metadata": {},
     "output_type": "execute_result"
    }
   ],
   "source": [
    "response['dt']"
   ]
  },
  {
   "cell_type": "code",
   "execution_count": 21,
   "metadata": {},
   "outputs": [
    {
     "name": "stdout",
     "output_type": "stream",
     "text": [
      "Beginning Data retrieval\n",
      "----------------------\n",
      "Processing Record 1 of set 1| London .\n",
      "Processing Record 2 of set 2| Paris .\n",
      "Processing Record 3 of set 3| Gretel .\n",
      "City is not found. Skipping... \n",
      "Number of cities unfound: 1 | Gretel.\n",
      "Processing Record 4 of set 4| Chicago .\n",
      "Processing Record 5 of set 5| NK .\n",
      "City is not found. Skipping... \n",
      "Number of cities unfound: 2 | NK.\n",
      "Processing Record 6 of set 6| Boston .\n",
      "Processing Record 7 of set 7| Buenos Aires .\n",
      "Processing Record 8 of set 8| Cairo .\n",
      "Processing Record 9 of set 9| Algiers .\n",
      "Processing Record 10 of set 10| Sydney .\n",
      "Processing Record 11 of set 11| Melbourne .\n",
      "Processing Record 12 of set 12| Queenstown .\n",
      "Processing Record 13 of set 13| broome .\n",
      "----------------------\n",
      "Ending Data retrieval\n"
     ]
    }
   ],
   "source": [
    "# Once figure out then do it\n",
    "# do for 3 cities so that Gretel does not exist so that we can srite exception\n",
    "# cities = [\"London\", \"Paris\", \"Boston\",\"Chicago\"]\n",
    "# do not run all 600 hundred cities. \n",
    "name = []\n",
    "lat = []\n",
    "lng = []\n",
    "max_temp = []\n",
    "humidity = []\n",
    "cloudiness = []\n",
    "wind_speed = []\n",
    "unfound_cities =[]\n",
    "unfound_counter = 0\n",
    "country =[]\n",
    "date=[]\n",
    "cities = [\"London\", \"Paris\", \"Gretel\",\"Chicago\", \"NK\", \"Boston\", \"Buenos Aires\", \"Cairo\", \"Algiers\", \"Sydney\",\"Melbourne\", \"Queenstown\",\"broome\"]\n",
    "#time.sleep(1)\n",
    "print(\"Beginning Data retrieval\")\n",
    "print(\"----------------------\")\n",
    "counter=1\n",
    "new_cities = []\n",
    "for  city in cities:\n",
    "    print(f\"Processing Record {counter} of set {counter}| {city} .\")\n",
    "    counter= counter+1\n",
    "    try:\n",
    "        response = requests.get(query_url + city).json()\n",
    "        lat.append(response['coord']['lat'])\n",
    "        lng.append(response['coord']['lon'])\n",
    "        humidity.append(response['main']['humidity'])\n",
    "        max_temp.append(response['main']['temp_max'])\n",
    "        cloudiness.append(response['clouds']['all'])\n",
    "        wind_speed.append(response[\"wind\"][\"speed\"])\n",
    "        new_cities.append(city)\n",
    "        date.append(response['dt'])\n",
    "        country.append(response[\"sys\"]['country'])\n",
    "       \n",
    "    except KeyError: \n",
    "        print(\"City is not found. Skipping... \")\n",
    "        unfound_cities.append(city)\n",
    "        unfound_counter=unfound_counter+1\n",
    "        print(f\"Number of cities unfound: {unfound_counter} | {city}.\")\n",
    "        \n",
    "print(\"----------------------\")\n",
    "print(\"Ending Data retrieval\")    "
   ]
  },
  {
   "cell_type": "code",
   "execution_count": 22,
   "metadata": {},
   "outputs": [
    {
     "name": "stdout",
     "output_type": "stream",
     "text": [
      "Found Cities : ['London', 'Paris', 'Chicago', 'Boston', 'Buenos Aires', 'Cairo', 'Algiers', 'Sydney', 'Melbourne', 'Queenstown', 'broome'].\n",
      "latitudes: [51.5085, 48.8534, 41.85, 42.3584, -34.6132, 30.0626, 36.7525, -33.8679, 28.0836, -31.8976, 42.2506].\n",
      "longitude: [-0.1257, 2.3488, -87.65, -71.0598, -58.3772, 31.2497, 3.042, 151.2073, -80.6081, 26.8753, -75.833].\n",
      "Max Temp: [54.27, 63.77, 59.02, 76.37, 53.96, 83.16, 60.62, 62.31, 76.01, 48.16, 69.01].\n",
      "Humidity: [82, 92, 73, 86, 91, 30, 77, 81, 93, 53, 92]. \n",
      "Cloudiness:[20, 75, 52, 40, 90, 0, 0, 40, 1, 6, 90].\n",
      "Wind Speed: [3, 2.3, 1.01, 3, 4.61, 3.44, 2.3, 1.01, 0, 5.75, 14.97].\n",
      "Country: ['GB', 'FR', 'US', 'US', 'AR', 'EG', 'DZ', 'AU', 'US', 'ZA', 'US'].\n",
      "Date: [1624340918, 1624340712, 1624340498, 1624340418, 1624341004, 1624340819, 1624341004, 1624340988, 1624340550, 1624341005, 1624341005].\n",
      "Unfound_cities ['Gretel', 'NK'] .\n"
     ]
    }
   ],
   "source": [
    "print(f\"Found Cities : {new_cities}.\")\n",
    "print(f\"latitudes: {lat}.\")\n",
    "print(f\"longitude: {lng}.\")\n",
    "print(f\"Max Temp: {max_temp}.\")\n",
    "print(f\"Humidity: {humidity}. \")\n",
    "print(f\"Cloudiness:{cloudiness}.\")\n",
    "print(f\"Wind Speed: {wind_speed}.\")\n",
    "print(f\"Country: {country}.\")\n",
    "print(f\"Date: {date}.\")\n",
    "print(f\"Unfound_cities {unfound_cities} .\")"
   ]
  },
  {
   "cell_type": "code",
   "execution_count": 23,
   "metadata": {},
   "outputs": [],
   "source": [
    "weather_df = pd.DataFrame({\"City\":new_cities,\n",
    "               \"Lat\": lat ,\n",
    "               \"Lng\": lng, \n",
    "               \"Max Temp\": max_temp,\n",
    "               \"Humidity\":humidity,\n",
    "                \"Cloudiness\":cloudiness,\n",
    "                \"Wind Speed\": wind_speed,\n",
    "                \"Country\": country,\n",
    "                \"Date\": date   \n",
    "               })"
   ]
  },
  {
   "cell_type": "code",
   "execution_count": 24,
   "metadata": {},
   "outputs": [
    {
     "data": {
      "text/html": [
       "<div>\n",
       "<style scoped>\n",
       "    .dataframe tbody tr th:only-of-type {\n",
       "        vertical-align: middle;\n",
       "    }\n",
       "\n",
       "    .dataframe tbody tr th {\n",
       "        vertical-align: top;\n",
       "    }\n",
       "\n",
       "    .dataframe thead th {\n",
       "        text-align: right;\n",
       "    }\n",
       "</style>\n",
       "<table border=\"1\" class=\"dataframe\">\n",
       "  <thead>\n",
       "    <tr style=\"text-align: right;\">\n",
       "      <th></th>\n",
       "      <th>City</th>\n",
       "      <th>Lat</th>\n",
       "      <th>Lng</th>\n",
       "      <th>Max Temp</th>\n",
       "      <th>Humidity</th>\n",
       "      <th>Cloudiness</th>\n",
       "      <th>Wind Speed</th>\n",
       "      <th>Country</th>\n",
       "      <th>Date</th>\n",
       "    </tr>\n",
       "  </thead>\n",
       "  <tbody>\n",
       "    <tr>\n",
       "      <th>0</th>\n",
       "      <td>London</td>\n",
       "      <td>51.5085</td>\n",
       "      <td>-0.1257</td>\n",
       "      <td>54.27</td>\n",
       "      <td>82</td>\n",
       "      <td>20</td>\n",
       "      <td>3.00</td>\n",
       "      <td>GB</td>\n",
       "      <td>1624340918</td>\n",
       "    </tr>\n",
       "    <tr>\n",
       "      <th>1</th>\n",
       "      <td>Paris</td>\n",
       "      <td>48.8534</td>\n",
       "      <td>2.3488</td>\n",
       "      <td>63.77</td>\n",
       "      <td>92</td>\n",
       "      <td>75</td>\n",
       "      <td>2.30</td>\n",
       "      <td>FR</td>\n",
       "      <td>1624340712</td>\n",
       "    </tr>\n",
       "    <tr>\n",
       "      <th>2</th>\n",
       "      <td>Chicago</td>\n",
       "      <td>41.8500</td>\n",
       "      <td>-87.6500</td>\n",
       "      <td>59.02</td>\n",
       "      <td>73</td>\n",
       "      <td>52</td>\n",
       "      <td>1.01</td>\n",
       "      <td>US</td>\n",
       "      <td>1624340498</td>\n",
       "    </tr>\n",
       "    <tr>\n",
       "      <th>3</th>\n",
       "      <td>Boston</td>\n",
       "      <td>42.3584</td>\n",
       "      <td>-71.0598</td>\n",
       "      <td>76.37</td>\n",
       "      <td>86</td>\n",
       "      <td>40</td>\n",
       "      <td>3.00</td>\n",
       "      <td>US</td>\n",
       "      <td>1624340418</td>\n",
       "    </tr>\n",
       "    <tr>\n",
       "      <th>4</th>\n",
       "      <td>Buenos Aires</td>\n",
       "      <td>-34.6132</td>\n",
       "      <td>-58.3772</td>\n",
       "      <td>53.96</td>\n",
       "      <td>91</td>\n",
       "      <td>90</td>\n",
       "      <td>4.61</td>\n",
       "      <td>AR</td>\n",
       "      <td>1624341004</td>\n",
       "    </tr>\n",
       "    <tr>\n",
       "      <th>5</th>\n",
       "      <td>Cairo</td>\n",
       "      <td>30.0626</td>\n",
       "      <td>31.2497</td>\n",
       "      <td>83.16</td>\n",
       "      <td>30</td>\n",
       "      <td>0</td>\n",
       "      <td>3.44</td>\n",
       "      <td>EG</td>\n",
       "      <td>1624340819</td>\n",
       "    </tr>\n",
       "    <tr>\n",
       "      <th>6</th>\n",
       "      <td>Algiers</td>\n",
       "      <td>36.7525</td>\n",
       "      <td>3.0420</td>\n",
       "      <td>60.62</td>\n",
       "      <td>77</td>\n",
       "      <td>0</td>\n",
       "      <td>2.30</td>\n",
       "      <td>DZ</td>\n",
       "      <td>1624341004</td>\n",
       "    </tr>\n",
       "    <tr>\n",
       "      <th>7</th>\n",
       "      <td>Sydney</td>\n",
       "      <td>-33.8679</td>\n",
       "      <td>151.2073</td>\n",
       "      <td>62.31</td>\n",
       "      <td>81</td>\n",
       "      <td>40</td>\n",
       "      <td>1.01</td>\n",
       "      <td>AU</td>\n",
       "      <td>1624340988</td>\n",
       "    </tr>\n",
       "    <tr>\n",
       "      <th>8</th>\n",
       "      <td>Melbourne</td>\n",
       "      <td>28.0836</td>\n",
       "      <td>-80.6081</td>\n",
       "      <td>76.01</td>\n",
       "      <td>93</td>\n",
       "      <td>1</td>\n",
       "      <td>0.00</td>\n",
       "      <td>US</td>\n",
       "      <td>1624340550</td>\n",
       "    </tr>\n",
       "    <tr>\n",
       "      <th>9</th>\n",
       "      <td>Queenstown</td>\n",
       "      <td>-31.8976</td>\n",
       "      <td>26.8753</td>\n",
       "      <td>48.16</td>\n",
       "      <td>53</td>\n",
       "      <td>6</td>\n",
       "      <td>5.75</td>\n",
       "      <td>ZA</td>\n",
       "      <td>1624341005</td>\n",
       "    </tr>\n",
       "    <tr>\n",
       "      <th>10</th>\n",
       "      <td>broome</td>\n",
       "      <td>42.2506</td>\n",
       "      <td>-75.8330</td>\n",
       "      <td>69.01</td>\n",
       "      <td>92</td>\n",
       "      <td>90</td>\n",
       "      <td>14.97</td>\n",
       "      <td>US</td>\n",
       "      <td>1624341005</td>\n",
       "    </tr>\n",
       "  </tbody>\n",
       "</table>\n",
       "</div>"
      ],
      "text/plain": [
       "            City      Lat       Lng  Max Temp  Humidity  Cloudiness  \\\n",
       "0         London  51.5085   -0.1257     54.27        82          20   \n",
       "1          Paris  48.8534    2.3488     63.77        92          75   \n",
       "2        Chicago  41.8500  -87.6500     59.02        73          52   \n",
       "3         Boston  42.3584  -71.0598     76.37        86          40   \n",
       "4   Buenos Aires -34.6132  -58.3772     53.96        91          90   \n",
       "5          Cairo  30.0626   31.2497     83.16        30           0   \n",
       "6        Algiers  36.7525    3.0420     60.62        77           0   \n",
       "7         Sydney -33.8679  151.2073     62.31        81          40   \n",
       "8      Melbourne  28.0836  -80.6081     76.01        93           1   \n",
       "9     Queenstown -31.8976   26.8753     48.16        53           6   \n",
       "10        broome  42.2506  -75.8330     69.01        92          90   \n",
       "\n",
       "    Wind Speed Country        Date  \n",
       "0         3.00      GB  1624340918  \n",
       "1         2.30      FR  1624340712  \n",
       "2         1.01      US  1624340498  \n",
       "3         3.00      US  1624340418  \n",
       "4         4.61      AR  1624341004  \n",
       "5         3.44      EG  1624340819  \n",
       "6         2.30      DZ  1624341004  \n",
       "7         1.01      AU  1624340988  \n",
       "8         0.00      US  1624340550  \n",
       "9         5.75      ZA  1624341005  \n",
       "10       14.97      US  1624341005  "
      ]
     },
     "execution_count": 24,
     "metadata": {},
     "output_type": "execute_result"
    }
   ],
   "source": [
    "weather_df"
   ]
  },
  {
   "cell_type": "code",
   "execution_count": 25,
   "metadata": {},
   "outputs": [],
   "source": [
    "weather_df.to_csv(\"output_data/cities.csv\",encoding='utf-8', index=False)"
   ]
  },
  {
   "cell_type": "code",
   "execution_count": 26,
   "metadata": {},
   "outputs": [
    {
     "data": {
      "image/png": "[encoded data removed]",
      "text/plain": [
       "<Figure size 576x432 with 1 Axes>"
      ]
     },
     "metadata": {
      "needs_background": "light"
     },
     "output_type": "display_data"
    }
   ],
   "source": [
    "plt.figure(figsize=(8,6))\n",
    "#sns.set()\n",
    "plt.scatter(weather_df[\"Lat\"], weather_df[\"Max Temp\"], color='steelblue',edgecolor = \"red\", alpha=0.8)\n",
    "plt.grid()\n",
    "plt.xlabel('Latitude')\n",
    "plt.ylabel('Max Temperature (F)')\n",
    "plt.title(f'City Latitude vs Max Temperature ({datetime.now().date()})')\n",
    "plt.savefig(\"LatVsTemp.png\")\n",
    "plt.show()"
   ]
  },
  {
   "cell_type": "code",
   "execution_count": 27,
   "metadata": {},
   "outputs": [
    {
     "data": {
      "image/png": "[encoded data removed]",
      "text/plain": [
       "<Figure size 576x432 with 1 Axes>"
      ]
     },
     "metadata": {
      "needs_background": "light"
     },
     "output_type": "display_data"
    }
   ],
   "source": [
    "x_values = weather_df[\"Lat\"]\n",
    "y_values = weather_df[\"Humidity\"]\n",
    "plt.figure(figsize=(8,6))\n",
    "#sns.set()\n",
    "plt.scatter(x_values, y_values, color='yellow', edgecolor = \"black\", alpha=0.8)\n",
    "plt.grid()\n",
    "plt.ylim(10,120)\n",
    "plt.xlabel('Latitude')\n",
    "plt.ylabel('Humidity (%)')\n",
    "plt.title(f'City Latitude vs Humidity ({datetime.now().date()})')\n",
    "plt.savefig(\"LatVsHumidity.png\")\n",
    "plt.show()\n"
   ]
  },
  {
   "cell_type": "code",
   "execution_count": 28,
   "metadata": {},
   "outputs": [
    {
     "data": {
      "image/png": "[encoded data removed]",
      "text/plain": [
       "<Figure size 576x432 with 1 Axes>"
      ]
     },
     "metadata": {
      "needs_background": "light"
     },
     "output_type": "display_data"
    }
   ],
   "source": [
    "plt.figure(figsize=(8,6))\n",
    "plt.scatter(weather_df[\"Lat\"], weather_df[\"Cloudiness\"], color='lightgreen', edgecolor = \"black\", alpha=0.8)\n",
    "plt.grid()\n",
    "plt.ylim(-20,(weather_df[\"Cloudiness\"].max()+10))\n",
    "plt.xlabel('Latitude')\n",
    "plt.ylabel('Cloudiness (%)')\n",
    "plt.title(f'City Latitude vs Cloudiness ({datetime.now().date()})')\n",
    "plt.savefig(\"LatVsCloudiness.png\")\n",
    "plt.show()"
   ]
  },
  {
   "cell_type": "code",
   "execution_count": 29,
   "metadata": {},
   "outputs": [
    {
     "data": {
      "image/png": "[encoded data removed]",
      "text/plain": [
       "<Figure size 576x432 with 1 Axes>"
      ]
     },
     "metadata": {
      "needs_background": "light"
     },
     "output_type": "display_data"
    }
   ],
   "source": [
    "plt.figure(figsize=(8,6))\n",
    "plt.scatter(weather_df[\"Lat\"], weather_df[\"Wind Speed\"], color='pink', edgecolor = \"black\",alpha=0.8)\n",
    "plt.grid()\n",
    "plt.ylim((weather_df[\"Wind Speed\"].min()-5),(weather_df[\"Wind Speed\"].max()+5))\n",
    "plt.xlabel('Latitude')\n",
    "plt.ylabel('Wind Speed (mph)')\n",
    "plt.title(f'City Latitude vs Wind Speed ({datetime.now().date()})')\n",
    "plt.savefig(\"LatVsWind.png\")\n",
    "plt.show()"
   ]
  },
  {
   "cell_type": "code",
   "execution_count": 32,
   "metadata": {},
   "outputs": [],
   "source": [
    "northern = weather_df.loc[weather_df[\"Lat\"] >= 0.0]\n",
    "northern.reset_index(inplace=True)\n",
    "southern = weather_df.loc[weather_df[\"Lat\"] < 0.0]\n",
    "southern.reset_index(inplace=True)"
   ]
  },
  {
   "cell_type": "code",
   "execution_count": 33,
   "metadata": {},
   "outputs": [],
   "source": [
    "# Define plotting function\n",
    "\n",
    "def plotLinearRegression(xdata,ydata,xlbl,ylbl,lblpos,ifig):\n",
    "    (slope, intercept, rvalue, pvalue, stderr) = linregress(xdata, ydata)\n",
    "    print(f\"The r-squared is: {rvalue}\")\n",
    "    regress_values = xdata * slope + intercept\n",
    "    line_eq = \"y = \" + str(round(slope,2)) + \"x + \" + str(round(intercept,2))\n",
    "\n",
    "    plt.scatter(xdata,ydata)\n",
    "    plt.plot(xdata,regress_values,\"r-\")\n",
    "    plt.annotate(line_eq,lblpos,fontsize=15,color=\"red\")\n",
    "    plt.xlabel(xlbl)\n",
    "    plt.ylabel(ylbl)\n",
    "    plt.savefig(f\"output_data/fig{ifig}.png\")\n",
    "    plt.show()"
   ]
  },
  {
   "cell_type": "code",
   "execution_count": 77,
   "metadata": {},
   "outputs": [
    {
     "name": "stdout",
     "output_type": "stream",
     "text": [
      "The r-squared is: -0.710443455581382\n"
     ]
    },
    {
     "data": {
      "image/png": "[encoded data removed]",
      "text/plain": [
       "<Figure size 432x288 with 1 Axes>"
      ]
     },
     "metadata": {
      "needs_background": "light"
     },
     "output_type": "display_data"
    }
   ],
   "source": [
    "# Northern Hemisphere - Max Temp vs. Latitude Linear Regression\n",
    "xlbl = \"Lat\"\n",
    "ylbl = \"Max Temp\"\n",
    "lblpos = (30,80)\n",
    "plotLinearRegression(northern[xlbl],northern[ylbl],xlbl,ylbl,lblpos,5)"
   ]
  },
  {
   "cell_type": "code",
   "execution_count": 74,
   "metadata": {},
   "outputs": [
    {
     "name": "stdout",
     "output_type": "stream",
     "text": [
      "The r-squared is: -0.6246690191356293\n"
     ]
    },
    {
     "data": {
      "image/png": "[encoded data removed]",
      "text/plain": [
       "<Figure size 432x288 with 1 Axes>"
      ]
     },
     "metadata": {
      "needs_background": "light"
     },
     "output_type": "display_data"
    }
   ],
   "source": [
    "\n",
    "# Northern Hemisphere - Max Temp vs. Latitude Linear Regression\n",
    "xlbl = \"Lat\"\n",
    "ylbl = \"Max Temp\"\n",
    "lblpos = (-34,49)\n",
    "plotLinearRegression(southern[xlbl],southern[ylbl],xlbl,ylbl,lblpos,6)"
   ]
  },
  {
   "cell_type": "code",
   "execution_count": 52,
   "metadata": {},
   "outputs": [
    {
     "name": "stdout",
     "output_type": "stream",
     "text": [
      "The r-squared is: 0.42695984276370297\n"
     ]
    },
    {
     "data": {
      "image/png": "[encoded data removed]",
      "text/plain": [
       "<Figure size 432x288 with 1 Axes>"
      ]
     },
     "metadata": {
      "needs_background": "light"
     },
     "output_type": "display_data"
    }
   ],
   "source": [
    "# Northern Hemisphere - Humidity (%) vs. Latitude Linear Regression\n",
    "xlbl = \"Lat\"\n",
    "ylbl = \"Humidity\"\n",
    "lblpos = (40,35)\n",
    "plotLinearRegression(northern[xlbl],northern[ylbl],xlbl,ylbl,lblpos,7)"
   ]
  },
  {
   "cell_type": "code",
   "execution_count": 73,
   "metadata": {},
   "outputs": [
    {
     "name": "stdout",
     "output_type": "stream",
     "text": [
      "The r-squared is: -0.9999259117084157\n"
     ]
    },
    {
     "data": {
      "image/png": "[encoded data removed]",
      "text/plain": [
       "<Figure size 432x288 with 1 Axes>"
      ]
     },
     "metadata": {
      "needs_background": "light"
     },
     "output_type": "display_data"
    }
   ],
   "source": [
    "# Southern Hemisphere - Humidity (%) vs. Latitude Linear Regression\n",
    "xlbl = \"Lat\"\n",
    "ylbl = \"Humidity\"\n",
    "lblpos = (-34,55)\n",
    "plotLinearRegression(southern[xlbl],southern[ylbl],xlbl,ylbl,lblpos,8)"
   ]
  },
  {
   "cell_type": "code",
   "execution_count": 62,
   "metadata": {},
   "outputs": [
    {
     "name": "stdout",
     "output_type": "stream",
     "text": [
      "The r-squared is: 0.5950933722352675\n"
     ]
    },
    {
     "data": {
      "image/png": "[encoded data removed]",
      "text/plain": [
       "<Figure size 432x288 with 1 Axes>"
      ]
     },
     "metadata": {
      "needs_background": "light"
     },
     "output_type": "display_data"
    }
   ],
   "source": [
    "# Northern Hemisphere - Cloudiness (%) vs. Latitude Linear Regression\n",
    "xlbl = \"Lat\"\n",
    "ylbl = \"Cloudiness\"\n",
    "lblpos = (30,70)\n",
    "plotLinearRegression(northern[xlbl],northern[ylbl],xlbl,ylbl,lblpos,9)"
   ]
  },
  {
   "cell_type": "code",
   "execution_count": 72,
   "metadata": {},
   "outputs": [
    {
     "name": "stdout",
     "output_type": "stream",
     "text": [
      "The r-squared is: -0.9343689037572834\n"
     ]
    },
    {
     "data": {
      "image/png": "[encoded data removed]",
      "text/plain": [
       "<Figure size 432x288 with 1 Axes>"
      ]
     },
     "metadata": {
      "needs_background": "light"
     },
     "output_type": "display_data"
    }
   ],
   "source": [
    "# Sourhern Hemisphere - Cloudiness (%) vs. Latitude Linear Regression\n",
    "xlbl = \"Lat\"\n",
    "ylbl = \"Cloudiness\"\n",
    "lblpos = (-33.5,60)\n",
    "plotLinearRegression(southern[xlbl],southern[ylbl],xlbl,ylbl,lblpos,10)"
   ]
  },
  {
   "cell_type": "code",
   "execution_count": 83,
   "metadata": {},
   "outputs": [
    {
     "name": "stdout",
     "output_type": "stream",
     "text": [
      "The r-squared is: 0.1832218697856505\n"
     ]
    },
    {
     "data": {
      "image/png": "[encoded data removed]",
      "text/plain": [
       "<Figure size 432x288 with 1 Axes>"
      ]
     },
     "metadata": {
      "needs_background": "light"
     },
     "output_type": "display_data"
    }
   ],
   "source": [
    "# Northern Hemisphere - Wind Speed (mph) vs. Latitude Linear Regression\n",
    "xlbl = \"Lat\"\n",
    "ylbl = \"Wind Speed\"\n",
    "lblpos = (30,10)\n",
    "plotLinearRegression(northern[xlbl],northern[ylbl],xlbl,ylbl,lblpos,11)"
   ]
  },
  {
   "cell_type": "code",
   "execution_count": 91,
   "metadata": {},
   "outputs": [
    {
     "name": "stdout",
     "output_type": "stream",
     "text": [
      "The r-squared is: 0.4682028768200944\n"
     ]
    },
    {
     "data": {
      "image/png": "[encoded data removed]",
      "text/plain": [
       "<Figure size 432x288 with 1 Axes>"
      ]
     },
     "metadata": {
      "needs_background": "light"
     },
     "output_type": "display_data"
    }
   ],
   "source": [
    "# Southern Hemisphere - Wind Speed (mph) vs. Latitude Linear Regression\n",
    "xlbl = \"Lat\"\n",
    "ylbl = \"Wind Speed\"\n",
    "lblpos = (-34,1.5)\n",
    "plotLinearRegression(southern[xlbl],southern[ylbl],xlbl,ylbl,lblpos,12)"
   ]
  },
  {
   "cell_type": "markdown",
   "metadata": {},
   "source": [
    "##  Observations"
   ]
  },
  {
   "cell_type": "code",
   "execution_count": null,
   "metadata": {},
   "outputs": [],
   "source": []
  }
 ],
 "metadata": {
  "kernelspec": {
   "display_name": "Python [conda env:PythonData]",
   "language": "python",
   "name": "conda-env-PythonData-py"
  },
  "language_info": {
   "codemirror_mode": {
    "name": "ipython",
    "version": 3
   },
   "file_extension": ".py",
   "mimetype": "text/x-python",
   "name": "python",
   "nbconvert_exporter": "python",
   "pygments_lexer": "ipython3",
   "version": "3.6.10"
  }
 },
 "nbformat": 4,
 "nbformat_minor": 4
}
